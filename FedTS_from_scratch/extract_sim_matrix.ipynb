{
 "cells": [
  {
   "cell_type": "code",
   "execution_count": 5,
   "metadata": {},
   "outputs": [],
   "source": [
    "import os\n",
    "import torch\n",
    "\n",
    "file_path = \"server_state.pt\"\n",
    "saved_state = torch.load(file_path) \n",
    "cos_matrices = saved_state['cos_matrices']"
   ]
  },
  {
   "cell_type": "code",
   "execution_count": 2,
   "metadata": {},
   "outputs": [
    {
     "name": "stdout",
     "output_type": "stream",
     "text": [
      "1\n"
     ]
    }
   ],
   "source": [
    "print(len(cos_matrices))"
   ]
  },
  {
   "cell_type": "code",
   "execution_count": 4,
   "metadata": {},
   "outputs": [
    {
     "name": "stdout",
     "output_type": "stream",
     "text": [
      "[[ 1.          0.73643869  0.17096032  0.16592796  0.16737138  0.24723968\n",
      "   0.18336922  0.29147723  0.29233855  0.40233177]\n",
      " [ 0.73643869  1.          0.1761723   0.16600716  0.12457844  0.24931687\n",
      "   0.18331745  0.3016524   0.30733451  0.39013758]\n",
      " [ 0.17096032  0.1761723   1.         -0.01869179  0.00445957  0.02323162\n",
      "   0.01563538  0.14882725  0.07518217  0.14629312]\n",
      " [ 0.16592796  0.16600716 -0.01869179  1.         -0.05309801  0.02030551\n",
      "   0.00840923  0.02955849  0.51656455 -0.00157906]\n",
      " [ 0.16737138  0.12457844  0.00445957 -0.05309801  1.         -0.00510852\n",
      "   0.02446726  0.12780051 -0.00979686  0.18863305]\n",
      " [ 0.24723968  0.24931687  0.02323162  0.02030551 -0.00510852  1.\n",
      "   0.01399827  0.46875218  0.05236563  0.27886075]\n",
      " [ 0.18336922  0.18331745  0.01563538  0.00840923  0.02446726  0.01399827\n",
      "   1.          0.01025898  0.1687959   0.23141254]\n",
      " [ 0.29147723  0.3016524   0.14882725  0.02955849  0.12780051  0.46875218\n",
      "   0.01025898  1.          0.04307675  0.12773371]\n",
      " [ 0.29233855  0.30733451  0.07518217  0.51656455 -0.00979686  0.05236563\n",
      "   0.1687959   0.04307675  1.          0.14410071]\n",
      " [ 0.40233177  0.39013758  0.14629312 -0.00157906  0.18863305  0.27886075\n",
      "   0.23141254  0.12773371  0.14410071  1.        ]]\n"
     ]
    }
   ],
   "source": [
    "print(cos_matrices[0])"
   ]
  },
  {
   "cell_type": "code",
   "execution_count": 1,
   "metadata": {},
   "outputs": [
    {
     "name": "stdout",
     "output_type": "stream",
     "text": [
      "[[0.62755407 0.98220582 0.409962   0.9782935  0.17301276 0.10001542\n",
      "  0.0123776  0.33725442 0.58757667 0.13459402]\n",
      " [0.90243721 0.73061109 0.78814509 0.88283126 0.97217616 0.21379501\n",
      "  0.80303417 0.49388237 0.13773149 0.22666628]\n",
      " [0.98794962 0.36299246 0.13196574 0.75760467 0.30888315 0.82752005\n",
      "  0.76548993 0.39730877 0.78767993 0.78615258]\n",
      " [0.21222417 0.32907782 0.59323487 0.5957187  0.49508776 0.67954313\n",
      "  0.80477312 0.57145753 0.32170959 0.31129393]\n",
      " [0.39837834 0.33822137 0.29441373 0.33300694 0.73404597 0.98173653\n",
      "  0.95475967 0.47410045 0.16231077 0.34507192]\n",
      " [0.72241385 0.40199144 0.46806866 0.93478094 0.95219032 0.11494384\n",
      "  0.54413304 0.01596938 0.88097639 0.49260855]\n",
      " [0.98292666 0.23004204 0.37957762 0.8370672  0.13135696 0.48807521\n",
      "  0.61628462 0.98994645 0.89799716 0.93841171]\n",
      " [0.62623243 0.31273445 0.16227849 0.23671501 0.38607771 0.39128803\n",
      "  0.5260048  0.7153111  0.50958152 0.91943246]\n",
      " [0.8945418  0.38390027 0.95760272 0.44256345 0.28516229 0.36808108\n",
      "  0.86811483 0.01603389 0.74090546 0.93862852]\n",
      " [0.53708255 0.20420944 0.93925618 0.34761133 0.98607994 0.52370754\n",
      "  0.09925995 0.16338472 0.43135946 0.73519922]]\n"
     ]
    }
   ],
   "source": [
    "import numpy as np\n",
    "\n",
    "# 生成一個 10x10 的隨機數組\n",
    "array = np.random.rand(10, 10)\n",
    "\n",
    "# 打印結果\n",
    "print(array)"
   ]
  },
  {
   "cell_type": "code",
   "execution_count": 2,
   "metadata": {},
   "outputs": [],
   "source": [
    "import numpy as np\n",
    "import cvxpy as cp\n",
    "\n",
    "def optimizing_graph_matrix_neighbor(model_cosine_matrix, alpha, fed_avg_freqs):\n",
    "    n = model_cosine_matrix.shape[0]\n",
    "    graph_matrix = np.zeros((n, n))\n",
    "    p = np.array(list(fed_avg_freqs.values()))\n",
    "    P = alpha * np.identity(n)\n",
    "    # P = cp.atoms.affine.wraps.psd_wrap(P)\n",
    "    G = - np.identity(n)\n",
    "    h = np.zeros(n)\n",
    "    A = np.ones((1, n))\n",
    "    b = np.ones(1)\n",
    "    for i in range(n):\n",
    "        model_cosine_vector = model_cosine_matrix[i]\n",
    "        d = model_cosine_vector\n",
    "        q = d - 2 * alpha * p\n",
    "        x = cp.Variable(n)\n",
    "        prob = cp.Problem(cp.Minimize(cp.quad_form(x, P) + q.T @ x),\n",
    "                  [G @ x <= h,\n",
    "                   A @ x == b]\n",
    "                  )\n",
    "        prob.solve()\n",
    "\n",
    "        graph_matrix[i, :] = torch.Tensor(x.value)\n",
    "    return graph_matrix\n"
   ]
  },
  {
   "cell_type": "code",
   "execution_count": 3,
   "metadata": {},
   "outputs": [],
   "source": [
    "fed_avg_freqs = {key: 0.1 for key in range(10)}\n",
    "alpha = 0.8 # paper 跟 code中的alpha, lambda剛好是反過來的!"
   ]
  },
  {
   "cell_type": "code",
   "execution_count": 8,
   "metadata": {},
   "outputs": [],
   "source": [
    "updated_graph_matrix = optimizing_graph_matrix_neighbor(-array, alpha, fed_avg_freqs)"
   ]
  },
  {
   "cell_type": "code",
   "execution_count": 10,
   "metadata": {},
   "outputs": [
    {
     "name": "stdout",
     "output_type": "stream",
     "text": [
      "[1.44022286e-01 3.65679622e-01 8.02724250e-03 3.63234431e-01\n",
      " 2.04270356e-23 2.04269473e-23 4.23897689e-23 1.49364139e-23\n",
      " 1.19036414e-01 4.23898226e-23]\n"
     ]
    }
   ],
   "source": [
    "print(updated_graph_matrix[0,:])"
   ]
  },
  {
   "cell_type": "code",
   "execution_count": 12,
   "metadata": {},
   "outputs": [
    {
     "name": "stdout",
     "output_type": "stream",
     "text": [
      "[ 1.04830123e-01  1.11189604e-01  1.56738833e-02 -1.05091647e-23\n",
      "  2.53216806e-03  2.15626955e-01 -2.14905669e-23  5.47656834e-01\n",
      " -3.24719666e-23  2.49041687e-03]\n"
     ]
    }
   ],
   "source": [
    "print(updated_graph_matrix[7,:])"
   ]
  },
  {
   "cell_type": "code",
   "execution_count": 22,
   "metadata": {},
   "outputs": [
    {
     "name": "stdout",
     "output_type": "stream",
     "text": [
      "[0.73643869 1.         0.1761723  0.16600716 0.12457844 0.24931687\n",
      " 0.18331745 0.3016524  0.30733451 0.39013758]\n"
     ]
    }
   ],
   "source": [
    "print(cos_matrices[0][1])"
   ]
  },
  {
   "cell_type": "code",
   "execution_count": null,
   "metadata": {},
   "outputs": [],
   "source": []
  }
 ],
 "metadata": {
  "kernelspec": {
   "display_name": "Python 3",
   "language": "python",
   "name": "python3"
  },
  "language_info": {
   "codemirror_mode": {
    "name": "ipython",
    "version": 3
   },
   "file_extension": ".py",
   "mimetype": "text/x-python",
   "name": "python",
   "nbconvert_exporter": "python",
   "pygments_lexer": "ipython3",
   "version": "3.9.7"
  }
 },
 "nbformat": 4,
 "nbformat_minor": 2
}
